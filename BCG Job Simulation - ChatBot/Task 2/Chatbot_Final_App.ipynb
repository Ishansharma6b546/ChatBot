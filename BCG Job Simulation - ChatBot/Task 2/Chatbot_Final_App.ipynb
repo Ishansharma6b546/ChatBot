{
 "cells": [
  {
   "cell_type": "code",
   "execution_count": null,
   "id": "235e2b7d-5e43-42fc-923c-2f2f86be11c1",
   "metadata": {},
   "outputs": [
    {
     "name": "stdout",
     "output_type": "stream",
     "text": [
      "----------------------------------------------------------------------------\n"
     ]
    },
    {
     "name": "stdin",
     "output_type": "stream",
     "text": [
      "\n",
      "Enter Hi to chat with AI Chatbot; type 'exit' to quit):  Hi\n"
     ]
    },
    {
     "name": "stdout",
     "output_type": "stream",
     "text": [
      "\n",
      "Hello! Welcome to chatroom. My name is Nikita, Your highly trustworthy AI Driven Financial Chatbot!!!\n",
      "\n",
      "I can help you with your financial queries related to the top \n",
      "Please select the company name from below: -\n",
      "\n",
      "1.Microsoft \n",
      "2.Tesla \n",
      "3.Apple\n"
     ]
    },
    {
     "name": "stdin",
     "output_type": "stream",
     "text": [
      "Enter company name :  Apple\n"
     ]
    },
    {
     "name": "stdout",
     "output_type": "stream",
     "text": [
      "\n",
      "The data for the fiscal year 2023, 2022, and 2021 is currently available\n"
     ]
    },
    {
     "name": "stdin",
     "output_type": "stream",
     "text": [
      "The fiscal year for the selected company :  2023\n"
     ]
    },
    {
     "name": "stdout",
     "output_type": "stream",
     "text": [
      "\n",
      "Please enter your query\n"
     ]
    },
    {
     "name": "stdin",
     "output_type": "stream",
     "text": [
      " What is the revenue growth(%) ?\n"
     ]
    },
    {
     "name": "stdout",
     "output_type": "stream",
     "text": [
      "Sorry, I cannot only provide information on the requested query.\n",
      "----------------------------------------------------------------------------\n"
     ]
    },
    {
     "name": "stdin",
     "output_type": "stream",
     "text": [
      "\n",
      "Enter Hi to chat with AI Chatbot; type 'exit' to quit):  Hi\n"
     ]
    },
    {
     "name": "stdout",
     "output_type": "stream",
     "text": [
      "\n",
      "Hello! Welcome to chatroom. My name is Nikita, Your highly trustworthy AI Driven Financial Chatbot!!!\n",
      "\n",
      "I can help you with your financial queries related to the top \n",
      "Please select the company name from below: -\n",
      "\n",
      "1.Microsoft \n",
      "2.Tesla \n",
      "3.Apple\n"
     ]
    },
    {
     "name": "stdin",
     "output_type": "stream",
     "text": [
      "Enter company name :  Apple\n"
     ]
    },
    {
     "name": "stdout",
     "output_type": "stream",
     "text": [
      "\n",
      "The data for the fiscal year 2023, 2022, and 2021 is currently available\n"
     ]
    },
    {
     "name": "stdin",
     "output_type": "stream",
     "text": [
      "The fiscal year for the selected company :  2023\n"
     ]
    },
    {
     "name": "stdout",
     "output_type": "stream",
     "text": [
      "\n",
      "Please enter your query\n"
     ]
    },
    {
     "name": "stdin",
     "output_type": "stream",
     "text": [
      " What is the revenue growth(%)?\n"
     ]
    },
    {
     "name": "stdout",
     "output_type": "stream",
     "text": [
      "The Revenue Growth(%) for Apple for fiscal year 2023 is 0.0(%)\n",
      "----------------------------------------------------------------------------\n"
     ]
    }
   ],
   "source": [
    "##Step 1: Importing required labraries. \n",
    "\n",
    "import pandas as pd\n",
    "\n",
    "##Step 2: Import the required files in csv format. These files are created from Task 1, a). final_data_report and Summary_final_report... \n",
    "final_report = pd.read_csv(r'C:\\Users\\new\\Desktop\\BCG Job Simulation - ChatBot\\Task 1/final_data_report.csv')\n",
    "summary_report = pd.read_csv(r'C:\\Users\\new\\Desktop\\BCG Job Simulation - ChatBot\\Task 1/Summary_final_report.csv')\n",
    "\n",
    "#Step 3: Creating the basic logic for the chatbot. Creating a library of propected queries, total 15 in number, the user might input. \n",
    "def financial_chatbot():\n",
    "    print(\"\\nPlease enter your query\")\n",
    "    user_query = input()\n",
    "\n",
    "    if user_query == \"What is the total revenue?\":\n",
    "        revenue = final_report[(final_report['Year'] == fiscal_year) & (final_report['Company'] == company_input)]['Total Revenue'].values[0]\n",
    "        return f\"The Total Revenue for {company_input} for fiscal year {fiscal_year} is $ {revenue}\"\n",
    "    \n",
    "    elif user_query == \"What is the Net Income?\":\n",
    "        net_income  = final_report[(final_report['Year'] == fiscal_year) & (final_report['Company'] == company_input)]['Net Income'].values[0]\n",
    "        return f\"The Net Income for {company_input} for fiscal year {fiscal_year} is $ {net_income}\"\n",
    "    \n",
    "    elif user_query == \"What is the sum of total assets?\":\n",
    "        total_assets  = final_report[(final_report['Year'] == fiscal_year) & (final_report['Company'] == company_input)]['Total Assets'].values[0]\n",
    "        return f\"The sum of Total Assets for {company_input} for fiscal year {fiscal_year} is $ {total_assets}\"\n",
    "    \n",
    "    elif user_query == \"What is the sum of total liabilities?\":\n",
    "        total_liabilities  = final_report[(final_report['Year'] == fiscal_year) & (final_report['Company'] == company_input)]['Total Liabilities'].values[0]\n",
    "        return f\"The sum of Total Liabilities for {company_input} for fiscal year {fiscal_year} is $ {total_liabilities}\"\n",
    "    \n",
    "    elif user_query == \"What is cash flow from operating activities?\":\n",
    "        cash_ops = final_report[(final_report['Year'] == fiscal_year) & (final_report['Company'] == company_input)]['Cash Flow from Operating Activities'].values[0]\n",
    "        return f\"The Cash Flow from Operating Activities for {company_input} for fiscal year {fiscal_year} is $ {cash_ops}\"\n",
    "    \n",
    "    elif user_query == \"What is the revenue growth(%)?\":\n",
    "        revenue_growth = final_report[(final_report['Year'] == fiscal_year) & (final_report['Company'] == company_input)]['Revenue Growth (%)'].values[0].round(4)\n",
    "        return f\"The Revenue Growth(%) for {company_input} for fiscal year {fiscal_year} is {revenue_growth}(%)\"\n",
    "    \n",
    "    elif user_query == \"What is the net income growth(%) ?\":\n",
    "        net_income_growth = final_report[(final_report['Year'] == fiscal_year) & (final_report['Company'] == company_input)]['Net Income Growth (%)'].values[0].round(4)\n",
    "        return f\"The Net Income Growth(%) for {company_input} for fiscal year {fiscal_year} is {net_income_growth}(%)\"\n",
    "    \n",
    "    elif user_query == \"What is the assets growth(%) ?\":\n",
    "        assets_growth = final_report[(final_report['Year'] == fiscal_year) & (final_report['Company'] == company_input)]['Assets Growth (%)'].values[0].round(4)\n",
    "        return f\"The Assets Growth(%) for {company_input} for fiscal year {fiscal_year} is {assets_growth}(%)\"\n",
    "    \n",
    "    elif user_query == \"What is the liabilities growth(%) ?\":\n",
    "        liabilities_growth = final_report[(final_report['Year'] == fiscal_year) & (final_report['Company'] == company_input)]['Liabilities Growth (%)'].values[0].round(4)\n",
    "        return f\"The Liabilities Growth(%) for {company_input} for fiscal year {fiscal_year} is {liabilities_growth}(%)\"\n",
    "    \n",
    "    elif user_query == \"What is the cash flow from operations growth(%) ?\":\n",
    "        cash_ops_growth = final_report[(final_report['Year'] == fiscal_year) & (final_report['Company'] == company_input)]['Cash Flow from Operations Growth(%)'].values[0].round(4)\n",
    "        return f\"The Cash Flow from Operations Growth(%) for {company_input} for fiscal year {fiscal_year} is {cash_ops_growth}(%)\"\n",
    "    \n",
    "    elif user_query == \"What is the year by year average revenue growth rate(%)?\":\n",
    "        year_avg_revenue_growth = summary_report[(summary_report['Company'] == company_input)]['Revenue Growth (%)'].values[0].round(4)\n",
    "        return f\"The Year By Year Average Revenue Growth Rate(%) from 2021 to 2023 for {company_input} is {year_avg_revenue_growth}(%)\"\n",
    "     \n",
    "    elif user_query == \"What is the year by year average net income growth rate(%)?\":\n",
    "        year_avg_net_income_growth = summary_report[(summary_report['Company'] == company_input)]['Net Income Growth (%)'].values[0].round(4)\n",
    "        return f\"The Year By Year Net Income Revenue Growth Rate(%) from 2021 to 2023 for {company_input} is {year_avg_net_income_growth}(%)\"\n",
    "    \n",
    "    elif user_query == \"What is the year by year average assets growth rate(%)?\":\n",
    "        year_avg_assets_growth = summary_report[(summary_report['Company'] == company_input)]['Assets Growth (%)'].values[0].round(4)\n",
    "        return f\"The Year By Year Average Assets Growth Rate(%) from 2021 to 2023 for {company_input} is {year_avg_assets_growth}(%)\"\n",
    "    \n",
    "    elif user_query == \"What is the year by year average liabilities growth rate(%)?\":\n",
    "        year_avg_liabilities_growth = summary_report[(summary_report['Company'] == company_input)]['Liabilities Growth (%)'].values[0].round(4)\n",
    "        return f\"The Year By Year Average Liabilities Growth Rate(%) from 2021 to 2023 for {company_input} is {year_avg_liabilities_growth}(%)\"\n",
    "    \n",
    "    elif user_query == \"What is the year by year average cash flow from operations growth rate(%)?\":\n",
    "        year_avg_cash_ops_growth = summary_report[(summary_report['Company'] == company_input)]['Cash Flow from Operations Growth(%)'].values[0].round(4)\n",
    "        return f\"The Year By Year Average Cash Flow from Operations Growth Rate(%) from 2021 to 2023 for {company_input} is {year_avg_cash_ops_growth}(%)\" \n",
    "    \n",
    "    else:\n",
    "        return \"Sorry, I cannot only provide information on the requested query.\"\n",
    "\n",
    "###Step 4: Now let us test the working of the Chatbot. \n",
    "while True:\n",
    "    print(\"----------------------------------------------------------------------------\")\n",
    "    user_input = input(\"\\nEnter Hi to chat with AI Chatbot; type 'exit' to quit): \")\n",
    "    if user_input.lower() == \"exit\":\n",
    "        break\n",
    "    elif user_input.lower() == \"hi\":\n",
    "        print(\"\\nHello! Welcome to chatroom. My name is Nikita, Your highly trustworthy AI Driven Financial Chatbot!!!\")\n",
    "        print(\"\\nI can help you with your financial queries related to the top \")\n",
    "        print(\"Please select the company name from below: -\")\n",
    "        print(\"\\n1.Microsoft \\n2.Tesla \\n3.Apple\")\n",
    "        company_input = input(\"Enter company name : \").capitalize()\n",
    "        if company_input not in ['Apple', 'Microsoft', 'Tesla']:\n",
    "            print(\"Invalid Company Name. Please check and enter correct company name by starting the chatbot session again\")\n",
    "            break\n",
    "        else:\n",
    "            print(\"\\nThe data for the fiscal year 2023, 2022, and 2021 is currently available\")\n",
    "            fiscal_year = int(input(\"The fiscal year for the selected company : \"))\n",
    "            if fiscal_year not in [2023, 2022, 2021]:\n",
    "                print(\"Please enter a valid fiscal year by starting the chatbot session again\")\n",
    "                break\n",
    "    else:\n",
    "        print(\"Enter 'Hi' Properly!!!!! by starting the chatbot session again\")\n",
    "        break\n",
    "            \n",
    "        \n",
    "    response = financial_chatbot()\n",
    "    print(response)\n"
   ]
  },
  {
   "cell_type": "code",
   "execution_count": null,
   "id": "80c0863f-e2bc-42ea-9d0e-295325dec7fc",
   "metadata": {},
   "outputs": [],
   "source": []
  }
 ],
 "metadata": {
  "kernelspec": {
   "display_name": "Python [conda env:base] *",
   "language": "python",
   "name": "conda-base-py"
  },
  "language_info": {
   "codemirror_mode": {
    "name": "ipython",
    "version": 3
   },
   "file_extension": ".py",
   "mimetype": "text/x-python",
   "name": "python",
   "nbconvert_exporter": "python",
   "pygments_lexer": "ipython3",
   "version": "3.12.7"
  }
 },
 "nbformat": 4,
 "nbformat_minor": 5
}
